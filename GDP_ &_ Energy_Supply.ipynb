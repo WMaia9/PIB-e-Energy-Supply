{
 "cells": [
  {
   "cell_type": "markdown",
   "metadata": {},
   "source": [
    "# Case study on the 15 largest economies in the world in the last 10 years (2010 - 2019) and where Brazil it is.\n",
    "\n",
    "In this case study, some indicators of the last 10 years of the 15 largest economies in the world will be analyzed. To do this, 3 datasets will be used.\n",
    "\n",
    "The first dataset, to analyze Energy Indicators, Energy Indicators.xls, is a list of United Nations energy supply and renewable electricity production indicators for the year 2013 with the last update being 2017.\n",
    "https://datacatalog.worldbank.org/dataset/mena-energy-indicators-2017\n",
    "\n",
    "The second one is GDP data for countries between 1960 to 2019 (last updated) provided by the World Bank.\n",
    "https://data.worldbank.org/indicator/NY.GDP.MKTP.CD\n",
    "\n",
    "Finally, the Engineering and Energy and Energy Technology data made available by the Sciamgo Journal & Country Rank, which is made available to the public and includes journals and scientific indicators from developed countries based on the information contained in the Scopus database and which measures the impact and the influence of scientific publications, with the latest update being made available in 2019.\n",
    "https://www.scimagojr.com/countryrank.php?category=2102"
   ]
  },
  {
   "cell_type": "code",
   "execution_count": 1,
   "metadata": {},
   "outputs": [],
   "source": [
    "#Importando as bibliotecas que serão utilizados nesse trabalho\n",
    "import pandas as pd\n",
    "import numpy as np\n",
    "import matplotlib.pyplot as plt"
   ]
  },
  {
   "cell_type": "markdown",
   "metadata": {},
   "source": [
    "# Part 1 - Cleaning the Data\n",
    "\n",
    "The first part of this work, the focus will be on cleaning the Data so that you can have a correct view of the data."
   ]
  },
  {
   "cell_type": "code",
   "execution_count": 2,
   "metadata": {},
   "outputs": [
    {
     "data": {
      "text/html": [
       "<div>\n",
       "<style scoped>\n",
       "    .dataframe tbody tr th:only-of-type {\n",
       "        vertical-align: middle;\n",
       "    }\n",
       "\n",
       "    .dataframe tbody tr th {\n",
       "        vertical-align: top;\n",
       "    }\n",
       "\n",
       "    .dataframe thead th {\n",
       "        text-align: right;\n",
       "    }\n",
       "</style>\n",
       "<table border=\"1\" class=\"dataframe\">\n",
       "  <thead>\n",
       "    <tr style=\"text-align: right;\">\n",
       "      <th></th>\n",
       "      <th>Rank</th>\n",
       "      <th>Region</th>\n",
       "      <th>Documents</th>\n",
       "      <th>Citable documents</th>\n",
       "      <th>Citations</th>\n",
       "      <th>Self-citations</th>\n",
       "      <th>Citations per document</th>\n",
       "      <th>H index</th>\n",
       "      <th>Energy Supply</th>\n",
       "      <th>Energy Supply per Capita</th>\n",
       "      <th>% Renewable</th>\n",
       "      <th>2010</th>\n",
       "      <th>2011</th>\n",
       "      <th>2012</th>\n",
       "      <th>2013</th>\n",
       "      <th>2014</th>\n",
       "      <th>2015</th>\n",
       "      <th>2016</th>\n",
       "      <th>2017</th>\n",
       "      <th>2018</th>\n",
       "      <th>2019</th>\n",
       "    </tr>\n",
       "    <tr>\n",
       "      <th>Country</th>\n",
       "      <th></th>\n",
       "      <th></th>\n",
       "      <th></th>\n",
       "      <th></th>\n",
       "      <th></th>\n",
       "      <th></th>\n",
       "      <th></th>\n",
       "      <th></th>\n",
       "      <th></th>\n",
       "      <th></th>\n",
       "      <th></th>\n",
       "      <th></th>\n",
       "      <th></th>\n",
       "      <th></th>\n",
       "      <th></th>\n",
       "      <th></th>\n",
       "      <th></th>\n",
       "      <th></th>\n",
       "      <th></th>\n",
       "      <th></th>\n",
       "      <th></th>\n",
       "    </tr>\n",
       "  </thead>\n",
       "  <tbody>\n",
       "    <tr>\n",
       "      <th>China</th>\n",
       "      <td>1</td>\n",
       "      <td>Asiatic Region</td>\n",
       "      <td>235126</td>\n",
       "      <td>233883</td>\n",
       "      <td>1909601</td>\n",
       "      <td>1306438</td>\n",
       "      <td>8.12</td>\n",
       "      <td>224</td>\n",
       "      <td>1.271910e+11</td>\n",
       "      <td>93.0</td>\n",
       "      <td>19.7549</td>\n",
       "      <td>6.087164e+12</td>\n",
       "      <td>7.551500e+12</td>\n",
       "      <td>8.532230e+12</td>\n",
       "      <td>9.570406e+12</td>\n",
       "      <td>1.047568e+13</td>\n",
       "      <td>1.106155e+13</td>\n",
       "      <td>1.123328e+13</td>\n",
       "      <td>1.231041e+13</td>\n",
       "      <td>1.389482e+13</td>\n",
       "      <td>1.434290e+13</td>\n",
       "    </tr>\n",
       "    <tr>\n",
       "      <th>United States</th>\n",
       "      <td>2</td>\n",
       "      <td>Northern America</td>\n",
       "      <td>157811</td>\n",
       "      <td>154288</td>\n",
       "      <td>1940563</td>\n",
       "      <td>639345</td>\n",
       "      <td>12.30</td>\n",
       "      <td>333</td>\n",
       "      <td>9.083800e+10</td>\n",
       "      <td>286.0</td>\n",
       "      <td>11.571</td>\n",
       "      <td>1.499205e+13</td>\n",
       "      <td>1.554258e+13</td>\n",
       "      <td>1.619701e+13</td>\n",
       "      <td>1.678485e+13</td>\n",
       "      <td>1.752716e+13</td>\n",
       "      <td>1.822470e+13</td>\n",
       "      <td>1.871496e+13</td>\n",
       "      <td>1.951935e+13</td>\n",
       "      <td>2.058016e+13</td>\n",
       "      <td>2.143323e+13</td>\n",
       "    </tr>\n",
       "    <tr>\n",
       "      <th>Japan</th>\n",
       "      <td>3</td>\n",
       "      <td>Asiatic Region</td>\n",
       "      <td>46032</td>\n",
       "      <td>45559</td>\n",
       "      <td>436961</td>\n",
       "      <td>109968</td>\n",
       "      <td>9.49</td>\n",
       "      <td>181</td>\n",
       "      <td>1.898400e+10</td>\n",
       "      <td>149.0</td>\n",
       "      <td>10.2328</td>\n",
       "      <td>5.700098e+12</td>\n",
       "      <td>6.157460e+12</td>\n",
       "      <td>6.203213e+12</td>\n",
       "      <td>5.155717e+12</td>\n",
       "      <td>4.850414e+12</td>\n",
       "      <td>4.389476e+12</td>\n",
       "      <td>4.922538e+12</td>\n",
       "      <td>4.866864e+12</td>\n",
       "      <td>4.954807e+12</td>\n",
       "      <td>5.081770e+12</td>\n",
       "    </tr>\n",
       "    <tr>\n",
       "      <th>India</th>\n",
       "      <td>4</td>\n",
       "      <td>Asiatic Region</td>\n",
       "      <td>39893</td>\n",
       "      <td>38848</td>\n",
       "      <td>368175</td>\n",
       "      <td>123446</td>\n",
       "      <td>9.23</td>\n",
       "      <td>171</td>\n",
       "      <td>3.319500e+10</td>\n",
       "      <td>26.0</td>\n",
       "      <td>14.9691</td>\n",
       "      <td>1.675615e+12</td>\n",
       "      <td>1.823050e+12</td>\n",
       "      <td>1.827638e+12</td>\n",
       "      <td>1.856722e+12</td>\n",
       "      <td>2.039127e+12</td>\n",
       "      <td>2.103588e+12</td>\n",
       "      <td>2.294798e+12</td>\n",
       "      <td>2.652755e+12</td>\n",
       "      <td>2.713165e+12</td>\n",
       "      <td>2.868929e+12</td>\n",
       "    </tr>\n",
       "    <tr>\n",
       "      <th>United Kingdom</th>\n",
       "      <td>5</td>\n",
       "      <td>Western Europe</td>\n",
       "      <td>38873</td>\n",
       "      <td>37780</td>\n",
       "      <td>536378</td>\n",
       "      <td>100038</td>\n",
       "      <td>13.80</td>\n",
       "      <td>208</td>\n",
       "      <td>7.920000e+09</td>\n",
       "      <td>124.0</td>\n",
       "      <td>10.6005</td>\n",
       "      <td>2.475244e+12</td>\n",
       "      <td>2.659310e+12</td>\n",
       "      <td>2.704888e+12</td>\n",
       "      <td>2.786023e+12</td>\n",
       "      <td>3.063803e+12</td>\n",
       "      <td>2.928591e+12</td>\n",
       "      <td>2.694283e+12</td>\n",
       "      <td>2.666229e+12</td>\n",
       "      <td>2.860668e+12</td>\n",
       "      <td>2.829108e+12</td>\n",
       "    </tr>\n",
       "    <tr>\n",
       "      <th>Germany</th>\n",
       "      <td>6</td>\n",
       "      <td>Western Europe</td>\n",
       "      <td>32935</td>\n",
       "      <td>32227</td>\n",
       "      <td>367356</td>\n",
       "      <td>78265</td>\n",
       "      <td>11.15</td>\n",
       "      <td>186</td>\n",
       "      <td>1.326100e+10</td>\n",
       "      <td>165.0</td>\n",
       "      <td>17.9015</td>\n",
       "      <td>3.396354e+12</td>\n",
       "      <td>3.744409e+12</td>\n",
       "      <td>3.527345e+12</td>\n",
       "      <td>3.732743e+12</td>\n",
       "      <td>3.883920e+12</td>\n",
       "      <td>3.356236e+12</td>\n",
       "      <td>3.467498e+12</td>\n",
       "      <td>3.682602e+12</td>\n",
       "      <td>3.963768e+12</td>\n",
       "      <td>3.861124e+12</td>\n",
       "    </tr>\n",
       "    <tr>\n",
       "      <th>Russian Federation</th>\n",
       "      <td>7</td>\n",
       "      <td>Eastern Europe</td>\n",
       "      <td>31880</td>\n",
       "      <td>31664</td>\n",
       "      <td>91906</td>\n",
       "      <td>42529</td>\n",
       "      <td>2.88</td>\n",
       "      <td>84</td>\n",
       "      <td>3.070900e+10</td>\n",
       "      <td>214.0</td>\n",
       "      <td>17.2887</td>\n",
       "      <td>1.524917e+12</td>\n",
       "      <td>2.045926e+12</td>\n",
       "      <td>2.208296e+12</td>\n",
       "      <td>2.292473e+12</td>\n",
       "      <td>2.059242e+12</td>\n",
       "      <td>1.363481e+12</td>\n",
       "      <td>1.276787e+12</td>\n",
       "      <td>1.574199e+12</td>\n",
       "      <td>1.669583e+12</td>\n",
       "      <td>1.699877e+12</td>\n",
       "    </tr>\n",
       "    <tr>\n",
       "      <th>Canada</th>\n",
       "      <td>8</td>\n",
       "      <td>Northern America</td>\n",
       "      <td>29633</td>\n",
       "      <td>29011</td>\n",
       "      <td>491467</td>\n",
       "      <td>88987</td>\n",
       "      <td>16.59</td>\n",
       "      <td>210</td>\n",
       "      <td>1.043100e+10</td>\n",
       "      <td>296.0</td>\n",
       "      <td>61.9454</td>\n",
       "      <td>1.613464e+12</td>\n",
       "      <td>1.788648e+12</td>\n",
       "      <td>1.828689e+12</td>\n",
       "      <td>1.847209e+12</td>\n",
       "      <td>1.803533e+12</td>\n",
       "      <td>1.556130e+12</td>\n",
       "      <td>1.528243e+12</td>\n",
       "      <td>1.649878e+12</td>\n",
       "      <td>1.716263e+12</td>\n",
       "      <td>1.736426e+12</td>\n",
       "    </tr>\n",
       "    <tr>\n",
       "      <th>Italy</th>\n",
       "      <td>9</td>\n",
       "      <td>Western Europe</td>\n",
       "      <td>23725</td>\n",
       "      <td>22819</td>\n",
       "      <td>312631</td>\n",
       "      <td>76446</td>\n",
       "      <td>13.18</td>\n",
       "      <td>155</td>\n",
       "      <td>6.530000e+09</td>\n",
       "      <td>109.0</td>\n",
       "      <td>33.6672</td>\n",
       "      <td>2.134018e+12</td>\n",
       "      <td>2.291991e+12</td>\n",
       "      <td>2.087077e+12</td>\n",
       "      <td>2.141315e+12</td>\n",
       "      <td>2.159134e+12</td>\n",
       "      <td>1.835899e+12</td>\n",
       "      <td>1.875797e+12</td>\n",
       "      <td>1.961796e+12</td>\n",
       "      <td>2.091545e+12</td>\n",
       "      <td>2.003576e+12</td>\n",
       "    </tr>\n",
       "    <tr>\n",
       "      <th>South Korea</th>\n",
       "      <td>10</td>\n",
       "      <td>Asiatic Region</td>\n",
       "      <td>23451</td>\n",
       "      <td>23166</td>\n",
       "      <td>279709</td>\n",
       "      <td>53110</td>\n",
       "      <td>11.93</td>\n",
       "      <td>146</td>\n",
       "      <td>1.100700e+10</td>\n",
       "      <td>221.0</td>\n",
       "      <td>2.27935</td>\n",
       "      <td>1.144067e+12</td>\n",
       "      <td>1.253223e+12</td>\n",
       "      <td>1.278428e+12</td>\n",
       "      <td>1.370795e+12</td>\n",
       "      <td>1.484318e+12</td>\n",
       "      <td>1.465773e+12</td>\n",
       "      <td>1.500112e+12</td>\n",
       "      <td>1.623901e+12</td>\n",
       "      <td>1.724846e+12</td>\n",
       "      <td>1.646739e+12</td>\n",
       "    </tr>\n",
       "    <tr>\n",
       "      <th>France</th>\n",
       "      <td>11</td>\n",
       "      <td>Western Europe</td>\n",
       "      <td>22429</td>\n",
       "      <td>21913</td>\n",
       "      <td>300015</td>\n",
       "      <td>58151</td>\n",
       "      <td>13.38</td>\n",
       "      <td>169</td>\n",
       "      <td>1.059700e+10</td>\n",
       "      <td>166.0</td>\n",
       "      <td>17.0203</td>\n",
       "      <td>2.642610e+12</td>\n",
       "      <td>2.861408e+12</td>\n",
       "      <td>2.683825e+12</td>\n",
       "      <td>2.811078e+12</td>\n",
       "      <td>2.852166e+12</td>\n",
       "      <td>2.438208e+12</td>\n",
       "      <td>2.471286e+12</td>\n",
       "      <td>2.595151e+12</td>\n",
       "      <td>2.787864e+12</td>\n",
       "      <td>2.715518e+12</td>\n",
       "    </tr>\n",
       "    <tr>\n",
       "      <th>Iran</th>\n",
       "      <td>12</td>\n",
       "      <td>Middle East</td>\n",
       "      <td>19371</td>\n",
       "      <td>19085</td>\n",
       "      <td>242250</td>\n",
       "      <td>77012</td>\n",
       "      <td>12.51</td>\n",
       "      <td>127</td>\n",
       "      <td>9.172000e+09</td>\n",
       "      <td>119.0</td>\n",
       "      <td>5.70772</td>\n",
       "      <td>4.868076e+11</td>\n",
       "      <td>5.807649e+11</td>\n",
       "      <td>5.988685e+11</td>\n",
       "      <td>4.602931e+11</td>\n",
       "      <td>4.326870e+11</td>\n",
       "      <td>3.849515e+11</td>\n",
       "      <td>4.179836e+11</td>\n",
       "      <td>4.453453e+11</td>\n",
       "      <td>4.539965e+11</td>\n",
       "      <td>NaN</td>\n",
       "    </tr>\n",
       "    <tr>\n",
       "      <th>Spain</th>\n",
       "      <td>13</td>\n",
       "      <td>Western Europe</td>\n",
       "      <td>18882</td>\n",
       "      <td>18529</td>\n",
       "      <td>312632</td>\n",
       "      <td>56968</td>\n",
       "      <td>16.56</td>\n",
       "      <td>163</td>\n",
       "      <td>4.923000e+09</td>\n",
       "      <td>106.0</td>\n",
       "      <td>37.9686</td>\n",
       "      <td>1.420722e+12</td>\n",
       "      <td>1.478773e+12</td>\n",
       "      <td>1.324820e+12</td>\n",
       "      <td>1.354757e+12</td>\n",
       "      <td>1.369399e+12</td>\n",
       "      <td>1.195119e+12</td>\n",
       "      <td>1.232076e+12</td>\n",
       "      <td>1.312539e+12</td>\n",
       "      <td>1.422154e+12</td>\n",
       "      <td>1.393491e+12</td>\n",
       "    </tr>\n",
       "    <tr>\n",
       "      <th>Australia</th>\n",
       "      <td>14</td>\n",
       "      <td>Pacific Region</td>\n",
       "      <td>18077</td>\n",
       "      <td>17661</td>\n",
       "      <td>263733</td>\n",
       "      <td>44799</td>\n",
       "      <td>14.59</td>\n",
       "      <td>161</td>\n",
       "      <td>5.386000e+09</td>\n",
       "      <td>231.0</td>\n",
       "      <td>11.8108</td>\n",
       "      <td>1.146138e+12</td>\n",
       "      <td>1.396650e+12</td>\n",
       "      <td>1.546152e+12</td>\n",
       "      <td>1.576184e+12</td>\n",
       "      <td>1.467484e+12</td>\n",
       "      <td>1.351694e+12</td>\n",
       "      <td>1.208847e+12</td>\n",
       "      <td>1.329188e+12</td>\n",
       "      <td>1.432881e+12</td>\n",
       "      <td>1.396567e+12</td>\n",
       "    </tr>\n",
       "    <tr>\n",
       "      <th>Brazil</th>\n",
       "      <td>15</td>\n",
       "      <td>Latin America</td>\n",
       "      <td>18024</td>\n",
       "      <td>17745</td>\n",
       "      <td>152380</td>\n",
       "      <td>37112</td>\n",
       "      <td>8.45</td>\n",
       "      <td>121</td>\n",
       "      <td>1.214900e+10</td>\n",
       "      <td>59.0</td>\n",
       "      <td>69.648</td>\n",
       "      <td>2.208872e+12</td>\n",
       "      <td>2.616201e+12</td>\n",
       "      <td>2.465189e+12</td>\n",
       "      <td>2.472807e+12</td>\n",
       "      <td>2.455994e+12</td>\n",
       "      <td>1.802214e+12</td>\n",
       "      <td>1.795700e+12</td>\n",
       "      <td>2.062831e+12</td>\n",
       "      <td>1.885483e+12</td>\n",
       "      <td>1.839758e+12</td>\n",
       "    </tr>\n",
       "  </tbody>\n",
       "</table>\n",
       "</div>"
      ],
      "text/plain": [
       "                    Rank            Region  Documents  Citable documents  \\\n",
       "Country                                                                    \n",
       "China                  1    Asiatic Region     235126             233883   \n",
       "United States          2  Northern America     157811             154288   \n",
       "Japan                  3    Asiatic Region      46032              45559   \n",
       "India                  4    Asiatic Region      39893              38848   \n",
       "United Kingdom         5    Western Europe      38873              37780   \n",
       "Germany                6    Western Europe      32935              32227   \n",
       "Russian Federation     7    Eastern Europe      31880              31664   \n",
       "Canada                 8  Northern America      29633              29011   \n",
       "Italy                  9    Western Europe      23725              22819   \n",
       "South Korea           10    Asiatic Region      23451              23166   \n",
       "France                11    Western Europe      22429              21913   \n",
       "Iran                  12       Middle East      19371              19085   \n",
       "Spain                 13    Western Europe      18882              18529   \n",
       "Australia             14    Pacific Region      18077              17661   \n",
       "Brazil                15     Latin America      18024              17745   \n",
       "\n",
       "                    Citations  Self-citations  Citations per document  \\\n",
       "Country                                                                 \n",
       "China                 1909601         1306438                    8.12   \n",
       "United States         1940563          639345                   12.30   \n",
       "Japan                  436961          109968                    9.49   \n",
       "India                  368175          123446                    9.23   \n",
       "United Kingdom         536378          100038                   13.80   \n",
       "Germany                367356           78265                   11.15   \n",
       "Russian Federation      91906           42529                    2.88   \n",
       "Canada                 491467           88987                   16.59   \n",
       "Italy                  312631           76446                   13.18   \n",
       "South Korea            279709           53110                   11.93   \n",
       "France                 300015           58151                   13.38   \n",
       "Iran                   242250           77012                   12.51   \n",
       "Spain                  312632           56968                   16.56   \n",
       "Australia              263733           44799                   14.59   \n",
       "Brazil                 152380           37112                    8.45   \n",
       "\n",
       "                    H index  Energy Supply  Energy Supply per Capita  \\\n",
       "Country                                                                \n",
       "China                   224   1.271910e+11                      93.0   \n",
       "United States           333   9.083800e+10                     286.0   \n",
       "Japan                   181   1.898400e+10                     149.0   \n",
       "India                   171   3.319500e+10                      26.0   \n",
       "United Kingdom          208   7.920000e+09                     124.0   \n",
       "Germany                 186   1.326100e+10                     165.0   \n",
       "Russian Federation       84   3.070900e+10                     214.0   \n",
       "Canada                  210   1.043100e+10                     296.0   \n",
       "Italy                   155   6.530000e+09                     109.0   \n",
       "South Korea             146   1.100700e+10                     221.0   \n",
       "France                  169   1.059700e+10                     166.0   \n",
       "Iran                    127   9.172000e+09                     119.0   \n",
       "Spain                   163   4.923000e+09                     106.0   \n",
       "Australia               161   5.386000e+09                     231.0   \n",
       "Brazil                  121   1.214900e+10                      59.0   \n",
       "\n",
       "                   % Renewable          2010          2011          2012  \\\n",
       "Country                                                                    \n",
       "China                  19.7549  6.087164e+12  7.551500e+12  8.532230e+12   \n",
       "United States           11.571  1.499205e+13  1.554258e+13  1.619701e+13   \n",
       "Japan                  10.2328  5.700098e+12  6.157460e+12  6.203213e+12   \n",
       "India                  14.9691  1.675615e+12  1.823050e+12  1.827638e+12   \n",
       "United Kingdom         10.6005  2.475244e+12  2.659310e+12  2.704888e+12   \n",
       "Germany                17.9015  3.396354e+12  3.744409e+12  3.527345e+12   \n",
       "Russian Federation     17.2887  1.524917e+12  2.045926e+12  2.208296e+12   \n",
       "Canada                 61.9454  1.613464e+12  1.788648e+12  1.828689e+12   \n",
       "Italy                  33.6672  2.134018e+12  2.291991e+12  2.087077e+12   \n",
       "South Korea            2.27935  1.144067e+12  1.253223e+12  1.278428e+12   \n",
       "France                 17.0203  2.642610e+12  2.861408e+12  2.683825e+12   \n",
       "Iran                   5.70772  4.868076e+11  5.807649e+11  5.988685e+11   \n",
       "Spain                  37.9686  1.420722e+12  1.478773e+12  1.324820e+12   \n",
       "Australia              11.8108  1.146138e+12  1.396650e+12  1.546152e+12   \n",
       "Brazil                  69.648  2.208872e+12  2.616201e+12  2.465189e+12   \n",
       "\n",
       "                            2013          2014          2015          2016  \\\n",
       "Country                                                                      \n",
       "China               9.570406e+12  1.047568e+13  1.106155e+13  1.123328e+13   \n",
       "United States       1.678485e+13  1.752716e+13  1.822470e+13  1.871496e+13   \n",
       "Japan               5.155717e+12  4.850414e+12  4.389476e+12  4.922538e+12   \n",
       "India               1.856722e+12  2.039127e+12  2.103588e+12  2.294798e+12   \n",
       "United Kingdom      2.786023e+12  3.063803e+12  2.928591e+12  2.694283e+12   \n",
       "Germany             3.732743e+12  3.883920e+12  3.356236e+12  3.467498e+12   \n",
       "Russian Federation  2.292473e+12  2.059242e+12  1.363481e+12  1.276787e+12   \n",
       "Canada              1.847209e+12  1.803533e+12  1.556130e+12  1.528243e+12   \n",
       "Italy               2.141315e+12  2.159134e+12  1.835899e+12  1.875797e+12   \n",
       "South Korea         1.370795e+12  1.484318e+12  1.465773e+12  1.500112e+12   \n",
       "France              2.811078e+12  2.852166e+12  2.438208e+12  2.471286e+12   \n",
       "Iran                4.602931e+11  4.326870e+11  3.849515e+11  4.179836e+11   \n",
       "Spain               1.354757e+12  1.369399e+12  1.195119e+12  1.232076e+12   \n",
       "Australia           1.576184e+12  1.467484e+12  1.351694e+12  1.208847e+12   \n",
       "Brazil              2.472807e+12  2.455994e+12  1.802214e+12  1.795700e+12   \n",
       "\n",
       "                            2017          2018          2019  \n",
       "Country                                                       \n",
       "China               1.231041e+13  1.389482e+13  1.434290e+13  \n",
       "United States       1.951935e+13  2.058016e+13  2.143323e+13  \n",
       "Japan               4.866864e+12  4.954807e+12  5.081770e+12  \n",
       "India               2.652755e+12  2.713165e+12  2.868929e+12  \n",
       "United Kingdom      2.666229e+12  2.860668e+12  2.829108e+12  \n",
       "Germany             3.682602e+12  3.963768e+12  3.861124e+12  \n",
       "Russian Federation  1.574199e+12  1.669583e+12  1.699877e+12  \n",
       "Canada              1.649878e+12  1.716263e+12  1.736426e+12  \n",
       "Italy               1.961796e+12  2.091545e+12  2.003576e+12  \n",
       "South Korea         1.623901e+12  1.724846e+12  1.646739e+12  \n",
       "France              2.595151e+12  2.787864e+12  2.715518e+12  \n",
       "Iran                4.453453e+11  4.539965e+11           NaN  \n",
       "Spain               1.312539e+12  1.422154e+12  1.393491e+12  \n",
       "Australia           1.329188e+12  1.432881e+12  1.396567e+12  \n",
       "Brazil              2.062831e+12  1.885483e+12  1.839758e+12  "
      ]
     },
     "execution_count": 2,
     "metadata": {},
     "output_type": "execute_result"
    }
   ],
   "source": [
    "pd.set_option('display.max_columns', None)\n",
    "def data_cleaning():\n",
    "    #Carregando e limpando os dados de Indicadores de Energia\n",
    "    Energy = pd.read_excel('assets/Energy Indicators.xls', index_col=None, header=None, footer=None)\n",
    "    Energy = Energy.drop([0, 1], axis=1)\n",
    "    Energy = Energy[18:245]\n",
    "    Energy = Energy.rename(columns ={2:'Country',\n",
    "                                     3:'Energy Supply',\n",
    "                                     4: 'Energy Supply per Capita',\n",
    "                                     5:'% Renewable'})\n",
    "    Energy['Energy Supply'] = Energy['Energy Supply'].apply(lambda x: np.NaN if x =='...' else x * 10**6)\n",
    "    Energy['Energy Supply per Capita'] = Energy['Energy Supply per Capita'].replace('...',np.NaN).apply(pd.to_numeric) \n",
    "    Energy['Country'] = Energy['Country'].str.replace(r'\\(.*\\)', '')\n",
    "    Energy['Country'] = Energy['Country'].str.replace('\\d+', '')\n",
    "    Energy['Country'] = Energy['Country'].str.strip()\n",
    "    Energy['Country'] = Energy['Country'].replace({\"Republic of Korea\": \"South Korea\",\n",
    "                                                   \"United States of America\": \"United States\",\n",
    "                                                   \"United Kingdom of Great Britain and Northern Ireland\": \"United Kingdom\",\n",
    "                                                   \"China, Hong Kong Special Administrative Region\": \"Hong Kong\"})\n",
    "    \n",
    "    #Carregando e limpandos os dados do PIB disponibilizados pelo World Bank\n",
    "    GDP = pd.read_csv('assets/world_bank2.csv', skiprows=4, usecols=[0] + list(range(54,64)))\n",
    "    GDP = GDP.rename(columns = {'Country Name': 'Country'})\n",
    "    GDP['Country'] = GDP['Country'].replace(to_replace=[\"Korea, Rep.\", \"Iran, Islamic Rep.\", \"Hong Kong SAR, China\"],\n",
    "                                                     value=[\"South Korea\", \"Iran\", \"Hong Kong\"])\n",
    "    \n",
    "    #Carregando os dados do Sciamgo Journal and Country Rank data for Energy Engineering and Power Technology\n",
    "    ScimEn = pd.read_excel('assets/scimagojr.xlsx')\n",
    "    ScimEn = ScimEn[ScimEn['Rank']<=15]\n",
    "    \n",
    "    #Imergindos os 3 arqivos de acordo com o rank dos 15 melhores colocado no rank diponiblizados pelo ScimEn\n",
    "    df = pd.merge(ScimEn, Energy, how='inner', left_on='Country', right_on='Country')\n",
    "    df2 = pd.merge(df, GDP, how='inner', left_on='Country', right_on='Country')\n",
    "    df2 = df2.set_index('Country')\n",
    "    \n",
    "    \n",
    "    return df2\n",
    "\n",
    "#Visualizando os dados \n",
    "data_cleaning()"
   ]
  },
  {
   "cell_type": "markdown",
   "metadata": {},
   "source": [
    "# 2. Analyzing the data\n",
    "\n",
    "Now that we have cleaned up and merged the data, we can make inferences.\n",
    "\n",
    "### 1- What are the top 15 countries for average GDP over the past 10 years?"
   ]
  },
  {
   "cell_type": "code",
   "execution_count": 3,
   "metadata": {},
   "outputs": [
    {
     "data": {
      "text/plain": [
       "Text(0.5, 0, 'Top 15 Countries')"
      ]
     },
     "execution_count": 3,
     "metadata": {},
     "output_type": "execute_result"
    },
    {
     "data": {
      "image/png": "[encoded data removed]",
      "text/plain": [
       "<Figure size 432x288 with 1 Axes>"
      ]
     },
     "metadata": {
      "needs_background": "light"
     },
     "output_type": "display_data"
    }
   ],
   "source": [
    "Top = data_cleaning()\n",
    "top = Top[['2010', '2011', '2012', '2013', '2014', '2015', '2016', '2017', '2018', '2019']] / 10**12\n",
    "avgGDP = top.mean(axis=1).sort_values(ascending=False)\n",
    "avgGDP = avgGDP \n",
    "avgGDP.rename('avgGDP')\n",
    "ax = avgGDP.plot.bar(title='Current Dollar')\n",
    "ax.set_ylabel('In US $ trillions')\n",
    "ax.set_xlabel('Top 15 Countries')"
   ]
  },
  {
   "cell_type": "markdown",
   "metadata": {},
   "source": [
    "As can be seen in the graph, in the average GDP of the last 10 years there is a sovereignty of the USA still in relation to the other countries with China and Japan just behind the top 3. Brazil is the 8th best GDP average among the 15 largest."
   ]
  },
  {
   "cell_type": "markdown",
   "metadata": {},
   "source": [
    "### 2 - How much did the average GDP vary over the 10-year period for Brazil?"
   ]
  },
  {
   "cell_type": "code",
   "execution_count": 4,
   "metadata": {},
   "outputs": [
    {
     "name": "stdout",
     "output_type": "stream",
     "text": [
      "GDP has changed by -369.0 billion dollars over the past 10 years\n"
     ]
    }
   ],
   "source": [
    "top = top.T\n",
    "change = data_cleaning()\n",
    "change = change[change['Rank'] == 15]\n",
    "change = (change['2019'] - change['2010']) / 10**9\n",
    "print('GDP has changed by {} billion dollars over the past 10 years'.format(np.round(change[0], 0)))"
   ]
  },
  {
   "cell_type": "code",
   "execution_count": 5,
   "metadata": {},
   "outputs": [
    {
     "data": {
      "image/png": "[encoded data removed]",
      "text/plain": [
       "<Figure size 432x288 with 1 Axes>"
      ]
     },
     "metadata": {
      "needs_background": "light"
     },
     "output_type": "display_data"
    }
   ],
   "source": [
    "ax = top['Brazil'].plot.bar(title='Variation in Brazilian GDP over the last 10 years')\n",
    "ax.set_ylabel('In US $ trillions')\n",
    "plt.show()"
   ]
  },
  {
   "cell_type": "markdown",
   "metadata": {},
   "source": [
    "As can be seen in the information above, Brazil over the past 10 years has had a negative change in GDP. The graph above shows that the biggest drop occurred between 2015 and 2016, which can be explained by the national political-economic crisis, where sets of economic measures, in addition to certain external factors and certain internal political events, which occurred during the Dilma Rousseff Government, which, added , resulted in a drop in activity. In 2020 another recession is expected due to the global financial crisis caused by the Covid-19 pandemic."
   ]
  },
  {
   "cell_type": "markdown",
   "metadata": {},
   "source": [
    "### 3 - What is the average energy supply per capita?"
   ]
  },
  {
   "cell_type": "code",
   "execution_count": 6,
   "metadata": {},
   "outputs": [
    {
     "name": "stdout",
     "output_type": "stream",
     "text": [
      "The average energy supply is 157.6 Petajoules\n"
     ]
    }
   ],
   "source": [
    "energy = data_cleaning()\n",
    "energy = energy['Energy Supply per Capita'].mean()\n",
    "print('The average energy supply is {} Petajoules'.format(energy))"
   ]
  },
  {
   "cell_type": "markdown",
   "metadata": {},
   "source": [
    "### 4 - What percentage do countries use of Renewable Energy?"
   ]
  },
  {
   "cell_type": "code",
   "execution_count": 7,
   "metadata": {},
   "outputs": [
    {
     "data": {
      "image/png": "[encoded data removed]",
      "text/plain": [
       "<Figure size 432x288 with 1 Axes>"
      ]
     },
     "metadata": {
      "needs_background": "light"
     },
     "output_type": "display_data"
    }
   ],
   "source": [
    "maximum = data_cleaning()\n",
    "maximum = maximum['% Renewable']\n",
    "maximum = maximum.sort_values(ascending=False)\n",
    "ax = maximum.plot.bar()"
   ]
  },
  {
   "cell_type": "markdown",
   "metadata": {},
   "source": [
    "Analyzing the chart above, we see that Brazil is the country that has the highest percentage of use of renewable energy. According to the International Energy Agency, Brazil is the third largest renewable energy generator in the world and according to the Energy Research Company (EPE), the country has a predominant renewable energy electrical matrix, “with emphasis on the hydraulic generation which accounts for 68.1% of the domestic supply ”and is one of the great Brazilian forces when it comes to renewable energy, thus justifying this high percentage."
   ]
  },
  {
   "cell_type": "markdown",
   "metadata": {},
   "source": [
    "### 5 - What is the estimated population size using Energy Supply and Energy Supply per capita?"
   ]
  },
  {
   "cell_type": "code",
   "execution_count": 8,
   "metadata": {},
   "outputs": [
    {
     "data": {
      "text/plain": [
       "Text(0, 0.5, 'In billions of people')"
      ]
     },
     "execution_count": 8,
     "metadata": {},
     "output_type": "execute_result"
    },
    {
     "data": {
      "image/png": "[encoded data removed]",
      "text/plain": [
       "<Figure size 432x288 with 1 Axes>"
      ]
     },
     "metadata": {
      "needs_background": "light"
     },
     "output_type": "display_data"
    }
   ],
   "source": [
    "df = data_cleaning()\n",
    "df['Population'] = df['Energy Supply'] / df['Energy Supply per Capita']\n",
    "df['Population'] = df['Population'] / 10**9\n",
    "ax = df['Population'].sort_values(ascending=False).plot.bar(title='Estimated Population in Billions')\n",
    "ax.set_ylabel('In billions of people')"
   ]
  },
  {
   "cell_type": "markdown",
   "metadata": {},
   "source": [
    "As the data were not available due to the size of the population, a simple way is to use the Energy Supply and Energy Supply values per capita to make an estimate. Doing a quick search on the internet is easy to see that the figures are very close to the real estimate of the population of these countries. We see that China has almost 1.4 billion people, followed by India with 1.3 billion and then the USA with approximately 300 million."
   ]
  },
  {
   "cell_type": "markdown",
   "metadata": {},
   "source": [
    "### 6 - What is the proportion of self-citations to the total citations?"
   ]
  },
  {
   "cell_type": "code",
   "execution_count": 9,
   "metadata": {},
   "outputs": [
    {
     "data": {
      "image/png": "[encoded data removed]",
      "text/plain": [
       "<Figure size 432x288 with 1 Axes>"
      ]
     },
     "metadata": {
      "needs_background": "light"
     },
     "output_type": "display_data"
    }
   ],
   "source": [
    "df = data_cleaning()\n",
    "df['Ration Citation'] = df['Self-citations'] / df['Citations']\n",
    "ax = df['Ration Citation'].sort_values(ascending=False).plot.bar()"
   ]
  },
  {
   "cell_type": "markdown",
   "metadata": {},
   "source": [
    "Analyzing now more data related to SCImago Journal Rank, which is a measure of the scientific influence of academic journals that accounts for the number of citations received for a period and the importance or prestige of the journals from which these situations come, we see that China is the country which has a higher proportion of self-quotes on Energy and Telecommunications articles showing how interested China has been in this area in recent years.\n",
    "\n",
    "In Latin America, this impact is very visible with the recent revolution in the electricity transmission and distribution sector with the arrival of the Chinese state conglomerates State Grid and Three Gorges in the markets of Chile and Peru and which continue to expand their business in Brazil."
   ]
  },
  {
   "cell_type": "markdown",
   "metadata": {},
   "source": [
    "### 7 - What is the correlation between the number of documents cited per capita and the supply of energy per capita?"
   ]
  },
  {
   "cell_type": "code",
   "execution_count": 10,
   "metadata": {},
   "outputs": [
    {
     "data": {
      "text/plain": [
       "0.75"
      ]
     },
     "execution_count": 10,
     "metadata": {},
     "output_type": "execute_result"
    }
   ],
   "source": [
    "df = data_cleaning()\n",
    "df['Population'] = df['Energy Supply'] / df['Energy Supply per Capita']\n",
    "df['Citable docs per Capita'] = df['Citable documents'] / df['Population']\n",
    "corr = np.round(df['Energy Supply per Capita'].corr(df['Citable docs per Capita']), 2)\n",
    "corr"
   ]
  },
  {
   "cell_type": "markdown",
   "metadata": {},
   "source": [
    "An interesting analysis that can be seen with the data provided is whether there is a correlation between the number of documents cited per capita and the energy supply and we can see that there is a great relationship between these aspects. We see then that the greater the interest of a country in studies related to Energy, the greater is also the energy supply of that same country."
   ]
  },
  {
   "cell_type": "code",
   "execution_count": null,
   "metadata": {},
   "outputs": [],
   "source": []
  }
 ],
 "metadata": {
  "kernelspec": {
   "display_name": "Python 3",
   "language": "python",
   "name": "python3"
  },
  "language_info": {
   "codemirror_mode": {
    "name": "ipython",
    "version": 3
   },
   "file_extension": ".py",
   "mimetype": "text/x-python",
   "name": "python",
   "nbconvert_exporter": "python",
   "pygments_lexer": "ipython3",
   "version": "3.7.3"
  }
 },
 "nbformat": 4,
 "nbformat_minor": 2
}
